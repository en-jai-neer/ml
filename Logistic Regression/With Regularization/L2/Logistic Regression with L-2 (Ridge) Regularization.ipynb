{
 "cells": [
  {
   "cell_type": "code",
   "execution_count": 1,
   "metadata": {},
   "outputs": [],
   "source": [
    "import pandas as pd\n",
    "import numpy as np\n",
    "import matplotlib.pyplot as plt \n",
    "plt.rc(\"font\", size=14)\n",
    "import seaborn as sns\n",
    "sns.set(style=\"white\")\n",
    "sns.set(style=\"whitegrid\", color_codes=True)"
   ]
  },
  {
   "cell_type": "code",
   "execution_count": 2,
   "metadata": {},
   "outputs": [],
   "source": [
    "data = pd.read_csv('data_banknote_authentication.txt', sep=\",\", header=None)"
   ]
  },
  {
   "cell_type": "code",
   "execution_count": 3,
   "metadata": {},
   "outputs": [],
   "source": [
    "data.rename(columns={0: \"Variance\", 1: \"Skewness\", 2: \"Curtosis\", 3: \"Entropy\", 4: \"Class\"}, inplace=True)"
   ]
  },
  {
   "cell_type": "code",
   "execution_count": 4,
   "metadata": {},
   "outputs": [],
   "source": [
    "Y = data.loc[:, 'Class']\n",
    "X = data.loc[:, :'Entropy']"
   ]
  },
  {
   "cell_type": "code",
   "execution_count": 5,
   "metadata": {},
   "outputs": [],
   "source": [
    "#The features are scaled using the equation -  z=(x-μ)/σ\n",
    "\n",
    "for colName in X.columns:\n",
    "        X[colName] = (X[colName] - X[colName].mean())/X[colName].std()"
   ]
  },
  {
   "cell_type": "code",
   "execution_count": 6,
   "metadata": {},
   "outputs": [],
   "source": [
    "X.insert(0, 'X0', 1)"
   ]
  },
  {
   "cell_type": "code",
   "execution_count": 7,
   "metadata": {},
   "outputs": [
    {
     "data": {
      "text/html": [
       "<div>\n",
       "<style scoped>\n",
       "    .dataframe tbody tr th:only-of-type {\n",
       "        vertical-align: middle;\n",
       "    }\n",
       "\n",
       "    .dataframe tbody tr th {\n",
       "        vertical-align: top;\n",
       "    }\n",
       "\n",
       "    .dataframe thead th {\n",
       "        text-align: right;\n",
       "    }\n",
       "</style>\n",
       "<table border=\"1\" class=\"dataframe\">\n",
       "  <thead>\n",
       "    <tr style=\"text-align: right;\">\n",
       "      <th></th>\n",
       "      <th>X0</th>\n",
       "      <th>Variance</th>\n",
       "      <th>Skewness</th>\n",
       "      <th>Curtosis</th>\n",
       "      <th>Entropy</th>\n",
       "    </tr>\n",
       "  </thead>\n",
       "  <tbody>\n",
       "    <tr>\n",
       "      <th>count</th>\n",
       "      <td>1372.0</td>\n",
       "      <td>1.372000e+03</td>\n",
       "      <td>1.372000e+03</td>\n",
       "      <td>1.372000e+03</td>\n",
       "      <td>1.372000e+03</td>\n",
       "    </tr>\n",
       "    <tr>\n",
       "      <th>mean</th>\n",
       "      <td>1.0</td>\n",
       "      <td>-2.358010e-16</td>\n",
       "      <td>-9.880338e-17</td>\n",
       "      <td>-3.130392e-16</td>\n",
       "      <td>-3.547535e-16</td>\n",
       "    </tr>\n",
       "    <tr>\n",
       "      <th>std</th>\n",
       "      <td>0.0</td>\n",
       "      <td>1.000000e+00</td>\n",
       "      <td>1.000000e+00</td>\n",
       "      <td>1.000000e+00</td>\n",
       "      <td>1.000000e+00</td>\n",
       "    </tr>\n",
       "    <tr>\n",
       "      <th>min</th>\n",
       "      <td>1.0</td>\n",
       "      <td>-2.629778e+00</td>\n",
       "      <td>-2.674276e+00</td>\n",
       "      <td>-1.550738e+00</td>\n",
       "      <td>-3.501427e+00</td>\n",
       "    </tr>\n",
       "    <tr>\n",
       "      <th>25%</th>\n",
       "      <td>1.0</td>\n",
       "      <td>-7.762644e-01</td>\n",
       "      <td>-6.185933e-01</td>\n",
       "      <td>-6.896941e-01</td>\n",
       "      <td>-5.815259e-01</td>\n",
       "    </tr>\n",
       "    <tr>\n",
       "      <th>50%</th>\n",
       "      <td>1.0</td>\n",
       "      <td>2.196622e-02</td>\n",
       "      <td>6.769360e-02</td>\n",
       "      <td>-1.812046e-01</td>\n",
       "      <td>2.879594e-01</td>\n",
       "    </tr>\n",
       "    <tr>\n",
       "      <th>75%</th>\n",
       "      <td>1.0</td>\n",
       "      <td>8.399364e-01</td>\n",
       "      <td>8.335718e-01</td>\n",
       "      <td>4.133667e-01</td>\n",
       "      <td>7.550960e-01</td>\n",
       "    </tr>\n",
       "    <tr>\n",
       "      <th>max</th>\n",
       "      <td>1.0</td>\n",
       "      <td>2.248188e+00</td>\n",
       "      <td>1.879223e+00</td>\n",
       "      <td>3.835187e+00</td>\n",
       "      <td>1.733048e+00</td>\n",
       "    </tr>\n",
       "  </tbody>\n",
       "</table>\n",
       "</div>"
      ],
      "text/plain": [
       "           X0      Variance      Skewness      Curtosis       Entropy\n",
       "count  1372.0  1.372000e+03  1.372000e+03  1.372000e+03  1.372000e+03\n",
       "mean      1.0 -2.358010e-16 -9.880338e-17 -3.130392e-16 -3.547535e-16\n",
       "std       0.0  1.000000e+00  1.000000e+00  1.000000e+00  1.000000e+00\n",
       "min       1.0 -2.629778e+00 -2.674276e+00 -1.550738e+00 -3.501427e+00\n",
       "25%       1.0 -7.762644e-01 -6.185933e-01 -6.896941e-01 -5.815259e-01\n",
       "50%       1.0  2.196622e-02  6.769360e-02 -1.812046e-01  2.879594e-01\n",
       "75%       1.0  8.399364e-01  8.335718e-01  4.133667e-01  7.550960e-01\n",
       "max       1.0  2.248188e+00  1.879223e+00  3.835187e+00  1.733048e+00"
      ]
     },
     "execution_count": 7,
     "metadata": {},
     "output_type": "execute_result"
    }
   ],
   "source": [
    "X.describe()"
   ]
  },
  {
   "cell_type": "code",
   "execution_count": 8,
   "metadata": {},
   "outputs": [
    {
     "data": {
      "text/html": [
       "<div>\n",
       "<style scoped>\n",
       "    .dataframe tbody tr th:only-of-type {\n",
       "        vertical-align: middle;\n",
       "    }\n",
       "\n",
       "    .dataframe tbody tr th {\n",
       "        vertical-align: top;\n",
       "    }\n",
       "\n",
       "    .dataframe thead th {\n",
       "        text-align: right;\n",
       "    }\n",
       "</style>\n",
       "<table border=\"1\" class=\"dataframe\">\n",
       "  <thead>\n",
       "    <tr style=\"text-align: right;\">\n",
       "      <th></th>\n",
       "      <th>X0</th>\n",
       "      <th>Variance</th>\n",
       "      <th>Skewness</th>\n",
       "      <th>Curtosis</th>\n",
       "      <th>Entropy</th>\n",
       "    </tr>\n",
       "  </thead>\n",
       "  <tbody>\n",
       "    <tr>\n",
       "      <th>1258</th>\n",
       "      <td>1</td>\n",
       "      <td>-0.370824</td>\n",
       "      <td>-0.232347</td>\n",
       "      <td>-0.413802</td>\n",
       "      <td>0.251034</td>\n",
       "    </tr>\n",
       "    <tr>\n",
       "      <th>712</th>\n",
       "      <td>1</td>\n",
       "      <td>1.534692</td>\n",
       "      <td>0.862755</td>\n",
       "      <td>-0.787541</td>\n",
       "      <td>0.400591</td>\n",
       "    </tr>\n",
       "    <tr>\n",
       "      <th>750</th>\n",
       "      <td>1</td>\n",
       "      <td>1.269351</td>\n",
       "      <td>-1.075703</td>\n",
       "      <td>0.777018</td>\n",
       "      <td>1.108349</td>\n",
       "    </tr>\n",
       "    <tr>\n",
       "      <th>1295</th>\n",
       "      <td>1</td>\n",
       "      <td>-1.891975</td>\n",
       "      <td>0.234816</td>\n",
       "      <td>-0.077639</td>\n",
       "      <td>-0.120106</td>\n",
       "    </tr>\n",
       "    <tr>\n",
       "      <th>888</th>\n",
       "      <td>1</td>\n",
       "      <td>-1.056661</td>\n",
       "      <td>-1.493863</td>\n",
       "      <td>1.763856</td>\n",
       "      <td>1.583501</td>\n",
       "    </tr>\n",
       "  </tbody>\n",
       "</table>\n",
       "</div>"
      ],
      "text/plain": [
       "      X0  Variance  Skewness  Curtosis   Entropy\n",
       "1258   1 -0.370824 -0.232347 -0.413802  0.251034\n",
       "712    1  1.534692  0.862755 -0.787541  0.400591\n",
       "750    1  1.269351 -1.075703  0.777018  1.108349\n",
       "1295   1 -1.891975  0.234816 -0.077639 -0.120106\n",
       "888    1 -1.056661 -1.493863  1.763856  1.583501"
      ]
     },
     "execution_count": 8,
     "metadata": {},
     "output_type": "execute_result"
    }
   ],
   "source": [
    "#Splitting the data into training set and testing set in the ratio of 80:20\n",
    "\n",
    "X_train=X.sample(frac=0.8,random_state=3) #random state is a seed value\n",
    "X_test=X.drop(X_train.index)\n",
    "Y_train=Y.sample(frac=0.8,random_state=3) \n",
    "Y_test=Y.drop(Y_train.index)\n",
    "X_train.head()"
   ]
  },
  {
   "cell_type": "code",
   "execution_count": 9,
   "metadata": {},
   "outputs": [
    {
     "data": {
      "text/plain": [
       "(1098, 5)"
      ]
     },
     "execution_count": 9,
     "metadata": {},
     "output_type": "execute_result"
    }
   ],
   "source": [
    "#Converting Pandas Series to Numpy arrays\n",
    "\n",
    "X_train = X_train.values\n",
    "X_test = X_test.values\n",
    "Y_train = Y_train.values\n",
    "Y_test = Y_test.values\n",
    "X_train.shape"
   ]
  },
  {
   "cell_type": "code",
   "execution_count": 10,
   "metadata": {},
   "outputs": [],
   "source": [
    "def sigmoid(z):\n",
    "    return 1/ (1 + np.exp(-z))"
   ]
  },
  {
   "cell_type": "code",
   "execution_count": 11,
   "metadata": {},
   "outputs": [],
   "source": [
    "def costofgradient(it, i):\n",
    "    sum = 0.0\n",
    "    for j, row in enumerate(X_train):\n",
    "        sum += (sigmoid(np.dot(w[it], row)) - Y_train[j] )*row[i]\n",
    "        reg = 0.0\n",
    "        if i != 0:\n",
    "            reg += L*(w[it][i])\n",
    "        sum += reg\n",
    "    return sum"
   ]
  },
  {
   "cell_type": "code",
   "execution_count": 12,
   "metadata": {},
   "outputs": [],
   "source": [
    "def updateW(locW, it):\n",
    "    for i in range(5):\n",
    "        locW = np.append(locW, w[it][i] - alpha*costofgradient(it, i))\n",
    "    return locW"
   ]
  },
  {
   "cell_type": "code",
   "execution_count": 13,
   "metadata": {},
   "outputs": [
    {
     "name": "stdout",
     "output_type": "stream",
     "text": [
      "[array([0.65626556, 0.75375331, 0.66324666, 0.7943183 , 0.97527378])]\n"
     ]
    },
    {
     "data": {
      "text/plain": [
       "<function matplotlib.pyplot.show(*args, **kw)>"
      ]
     },
     "execution_count": 13,
     "metadata": {},
     "output_type": "execute_result"
    },
    {
     "data": {
      "image/png": "[encoded data removed]",
      "text/plain": [
       "<Figure size 432x288 with 1 Axes>"
      ]
     },
     "metadata": {},
     "output_type": "display_data"
    }
   ],
   "source": [
    "w= []\n",
    "w.append(np.random.rand(5))\n",
    "print(w)\n",
    "alpha = 0.05    #Learning Rate\n",
    "L = 0.00001     #Regularization Hyperparameter\n",
    "iterations = 50 #epochs\n",
    "x_axis=[]\n",
    "y_axis = []\n",
    "locW = []\n",
    "x = []\n",
    "\n",
    "for it in range(iterations):\n",
    "    x_axis.append(it)\n",
    "    y_pred = sigmoid(np.dot(X_test, w[it]))\n",
    "    y_axis.append(np.sum((y_pred-Y_test)**2))\n",
    "    locW = np.array(locW, dtype=np.longdouble)\n",
    "    x = np.array(x, dtype=np.longdouble)\n",
    "    x = updateW(locW, it)\n",
    "    w.append(x)\n",
    "\n",
    "plt.plot(x_axis, y_axis, color=\"#001a66\", linewidth=2)\n",
    "plt.xlabel('Iterations')  \n",
    "plt.ylabel('Loss')  \n",
    "plt.title('Loss with Gaussian Weight Initialization and L2 Regularization')\n",
    "plt.show\n",
    "# plt.savefig('Gaussian_L2.jpg', bbox_inches='tight', dpi=300, quality=80, optimize=True, progressive=True)"
   ]
  },
  {
   "cell_type": "code",
   "execution_count": 14,
   "metadata": {},
   "outputs": [
    {
     "name": "stdout",
     "output_type": "stream",
     "text": [
      "[ -7.02042 -14.89322 -16.54333 -15.18754  -0.57003]\n"
     ]
    }
   ],
   "source": [
    "y_pred = sigmoid(np.matmul(X_test, w[iterations]))\n",
    "for i, val in enumerate(y_pred):\n",
    "    if(val>=0.5):\n",
    "        y_pred[i]=1\n",
    "    else:\n",
    "        y_pred[i]=0\n",
    "\n",
    "round_off_values = np.around(w[iterations], decimals = 5)\n",
    "print(round_off_values)"
   ]
  },
  {
   "cell_type": "code",
   "execution_count": 15,
   "metadata": {},
   "outputs": [
    {
     "name": "stdout",
     "output_type": "stream",
     "text": [
      "[[149.   1.]\n",
      " [  0. 124.]]\n",
      "The Precision is -  0.992\n",
      "The Recall is -  1.0\n",
      "The F1-score is -  0.9959839357429718\n",
      "The Squared Sum of Errors is -  1.0\n"
     ]
    }
   ],
   "source": [
    "#Computing the Confusion Matrix\n",
    "K = len(np.unique(Y_test)) # Number of classes \n",
    "confusion_matrix = np.zeros((K, K))\n",
    "\n",
    "for i in range(len(Y_test)):\n",
    "    x = Y_test[i]\n",
    "    y = y_pred[i].astype(int)\n",
    "    confusion_matrix[x][y] += 1\n",
    "print(confusion_matrix)\n",
    "\n",
    "#Computing Precision, Recall and F-score\n",
    "precision = confusion_matrix[1][1]/(confusion_matrix[0][1] + confusion_matrix[1][1])\n",
    "recall = confusion_matrix[1][1]/(confusion_matrix[1][0] + confusion_matrix[1][1])\n",
    "print('The Precision is - ', precision)\n",
    "print('The Recall is - ', recall)\n",
    "f_score = 2*precision*recall/(precision+recall)\n",
    "print('The F1-score is - ',f_score)\n",
    "\n",
    "sse = np.sum((y_pred-Y_test)**2)\n",
    "print('The Squared Sum of Errors is - ',sse)"
   ]
  },
  {
   "cell_type": "code",
   "execution_count": 16,
   "metadata": {},
   "outputs": [
    {
     "name": "stdout",
     "output_type": "stream",
     "text": [
      "Accuracy of logistic regression classifier on test set: 99.63504\n"
     ]
    }
   ],
   "source": [
    "print('Accuracy of logistic regression classifier on test set: {:.5f}'.format((Y_test.shape[0]-sse)/Y_test.shape[0]*100))"
   ]
  }
 ],
 "metadata": {
  "kernelspec": {
   "display_name": "Python 3",
   "language": "python",
   "name": "python3"
  },
  "language_info": {
   "codemirror_mode": {
    "name": "ipython",
    "version": 3
   },
   "file_extension": ".py",
   "mimetype": "text/x-python",
   "name": "python",
   "nbconvert_exporter": "python",
   "pygments_lexer": "ipython3",
   "version": "3.6.5"
  }
 },
 "nbformat": 4,
 "nbformat_minor": 2
}
