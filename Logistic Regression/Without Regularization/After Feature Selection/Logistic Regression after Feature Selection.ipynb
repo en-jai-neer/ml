{
 "cells": [
  {
   "cell_type": "code",
   "execution_count": 1,
   "metadata": {},
   "outputs": [],
   "source": [
    "import pandas as pd\n",
    "import numpy as np\n",
    "import matplotlib.pyplot as plt\n",
    "import seaborn as sns\n",
    "from scipy.stats import pearsonr, spearmanr\n",
    "plt.rc(\"font\", size=14)\n",
    "sns.set(style=\"white\")\n",
    "sns.set(style=\"whitegrid\", color_codes=True)"
   ]
  },
  {
   "cell_type": "code",
   "execution_count": 2,
   "metadata": {},
   "outputs": [],
   "source": [
    "data = pd.read_csv('data_banknote_authentication.txt', sep=\",\", header=None)"
   ]
  },
  {
   "cell_type": "code",
   "execution_count": 3,
   "metadata": {},
   "outputs": [],
   "source": [
    "data.rename(columns={0: \"Variance\", 1: \"Skewness\", 2: \"Curtosis\", 3: \"Entropy\", 4: \"Class\"}, inplace=True)"
   ]
  },
  {
   "cell_type": "code",
   "execution_count": 4,
   "metadata": {},
   "outputs": [],
   "source": [
    "Y = data.loc[:, 'Class']\n",
    "X = data.loc[:, :'Entropy']"
   ]
  },
  {
   "cell_type": "code",
   "execution_count": 5,
   "metadata": {},
   "outputs": [],
   "source": [
    "Col1 = data.loc[:, 'Variance'].values\n",
    "Col2 = data.loc[:, 'Skewness'].values\n",
    "Col3 = data.loc[:, 'Curtosis'].values\n",
    "Col4 = data.loc[:, 'Entropy'].values"
   ]
  },
  {
   "cell_type": "code",
   "execution_count": 6,
   "metadata": {},
   "outputs": [
    {
     "name": "stdout",
     "output_type": "stream",
     "text": [
      "[[ 4.4142562  -0.02446417]\n",
      " [-0.02446417  0.24711166]]\n",
      "-0.02342\n",
      "-0.03275\n"
     ]
    }
   ],
   "source": [
    "covariance = np.cov(Col4, Y)\n",
    "print(covariance)\n",
    "corr, _ = pearsonr(Col4, Y)\n",
    "print('{:.5f}' .format(corr))\n",
    "spcorr, _ = spearmanr(Col4, Y)\n",
    "print('{:.5f}' .format(spcorr))"
   ]
  },
  {
   "cell_type": "code",
   "execution_count": 7,
   "metadata": {},
   "outputs": [
    {
     "data": {
      "text/html": [
       "<div>\n",
       "<style scoped>\n",
       "    .dataframe tbody tr th:only-of-type {\n",
       "        vertical-align: middle;\n",
       "    }\n",
       "\n",
       "    .dataframe tbody tr th {\n",
       "        vertical-align: top;\n",
       "    }\n",
       "\n",
       "    .dataframe thead th {\n",
       "        text-align: right;\n",
       "    }\n",
       "</style>\n",
       "<table border=\"1\" class=\"dataframe\">\n",
       "  <thead>\n",
       "    <tr style=\"text-align: right;\">\n",
       "      <th></th>\n",
       "      <th>X0</th>\n",
       "      <th>Variance</th>\n",
       "      <th>Skewness</th>\n",
       "      <th>Curtosis</th>\n",
       "    </tr>\n",
       "  </thead>\n",
       "  <tbody>\n",
       "    <tr>\n",
       "      <th>0</th>\n",
       "      <td>1</td>\n",
       "      <td>3.62160</td>\n",
       "      <td>8.6661</td>\n",
       "      <td>-2.8073</td>\n",
       "    </tr>\n",
       "    <tr>\n",
       "      <th>1</th>\n",
       "      <td>1</td>\n",
       "      <td>4.54590</td>\n",
       "      <td>8.1674</td>\n",
       "      <td>-2.4586</td>\n",
       "    </tr>\n",
       "    <tr>\n",
       "      <th>2</th>\n",
       "      <td>1</td>\n",
       "      <td>3.86600</td>\n",
       "      <td>-2.6383</td>\n",
       "      <td>1.9242</td>\n",
       "    </tr>\n",
       "    <tr>\n",
       "      <th>3</th>\n",
       "      <td>1</td>\n",
       "      <td>3.45660</td>\n",
       "      <td>9.5228</td>\n",
       "      <td>-4.0112</td>\n",
       "    </tr>\n",
       "    <tr>\n",
       "      <th>4</th>\n",
       "      <td>1</td>\n",
       "      <td>0.32924</td>\n",
       "      <td>-4.4552</td>\n",
       "      <td>4.5718</td>\n",
       "    </tr>\n",
       "  </tbody>\n",
       "</table>\n",
       "</div>"
      ],
      "text/plain": [
       "   X0  Variance  Skewness  Curtosis\n",
       "0   1   3.62160    8.6661   -2.8073\n",
       "1   1   4.54590    8.1674   -2.4586\n",
       "2   1   3.86600   -2.6383    1.9242\n",
       "3   1   3.45660    9.5228   -4.0112\n",
       "4   1   0.32924   -4.4552    4.5718"
      ]
     },
     "execution_count": 7,
     "metadata": {},
     "output_type": "execute_result"
    }
   ],
   "source": [
    "X = X.drop(columns = ['Entropy'])\n",
    "X.insert(0, 'X0', 1)\n",
    "X.head()"
   ]
  },
  {
   "cell_type": "code",
   "execution_count": 8,
   "metadata": {},
   "outputs": [
    {
     "data": {
      "text/html": [
       "<div>\n",
       "<style scoped>\n",
       "    .dataframe tbody tr th:only-of-type {\n",
       "        vertical-align: middle;\n",
       "    }\n",
       "\n",
       "    .dataframe tbody tr th {\n",
       "        vertical-align: top;\n",
       "    }\n",
       "\n",
       "    .dataframe thead th {\n",
       "        text-align: right;\n",
       "    }\n",
       "</style>\n",
       "<table border=\"1\" class=\"dataframe\">\n",
       "  <thead>\n",
       "    <tr style=\"text-align: right;\">\n",
       "      <th></th>\n",
       "      <th>X0</th>\n",
       "      <th>Variance</th>\n",
       "      <th>Skewness</th>\n",
       "      <th>Curtosis</th>\n",
       "    </tr>\n",
       "  </thead>\n",
       "  <tbody>\n",
       "    <tr>\n",
       "      <th>1258</th>\n",
       "      <td>1</td>\n",
       "      <td>-0.62043</td>\n",
       "      <td>0.5587</td>\n",
       "      <td>-0.38587</td>\n",
       "    </tr>\n",
       "    <tr>\n",
       "      <th>712</th>\n",
       "      <td>1</td>\n",
       "      <td>4.79650</td>\n",
       "      <td>6.9859</td>\n",
       "      <td>-1.99670</td>\n",
       "    </tr>\n",
       "    <tr>\n",
       "      <th>750</th>\n",
       "      <td>1</td>\n",
       "      <td>4.04220</td>\n",
       "      <td>-4.3910</td>\n",
       "      <td>4.74660</td>\n",
       "    </tr>\n",
       "    <tr>\n",
       "      <th>1295</th>\n",
       "      <td>1</td>\n",
       "      <td>-4.94470</td>\n",
       "      <td>3.3005</td>\n",
       "      <td>1.06300</td>\n",
       "    </tr>\n",
       "    <tr>\n",
       "      <th>888</th>\n",
       "      <td>1</td>\n",
       "      <td>-2.57010</td>\n",
       "      <td>-6.8452</td>\n",
       "      <td>8.99990</td>\n",
       "    </tr>\n",
       "  </tbody>\n",
       "</table>\n",
       "</div>"
      ],
      "text/plain": [
       "      X0  Variance  Skewness  Curtosis\n",
       "1258   1  -0.62043    0.5587  -0.38587\n",
       "712    1   4.79650    6.9859  -1.99670\n",
       "750    1   4.04220   -4.3910   4.74660\n",
       "1295   1  -4.94470    3.3005   1.06300\n",
       "888    1  -2.57010   -6.8452   8.99990"
      ]
     },
     "execution_count": 8,
     "metadata": {},
     "output_type": "execute_result"
    }
   ],
   "source": [
    "#Splitting the data into training set and testing set in the ratio of 80:20\n",
    "\n",
    "X_train=X.sample(frac=0.8,random_state=3) #random state is a seed value\n",
    "X_test=X.drop(X_train.index)\n",
    "Y_train=Y.sample(frac=0.8,random_state=3) \n",
    "Y_test=Y.drop(Y_train.index)\n",
    "X_train.head()"
   ]
  },
  {
   "cell_type": "code",
   "execution_count": 9,
   "metadata": {},
   "outputs": [],
   "source": [
    "#Converting Pandas Series to Numpy arrays\n",
    "\n",
    "X_train = X_train.values\n",
    "X_test = X_test.values\n",
    "Y_train = Y_train.values\n",
    "Y_test = Y_test.values"
   ]
  },
  {
   "cell_type": "code",
   "execution_count": 10,
   "metadata": {},
   "outputs": [
    {
     "data": {
      "text/plain": [
       "(1098, 4)"
      ]
     },
     "execution_count": 10,
     "metadata": {},
     "output_type": "execute_result"
    }
   ],
   "source": [
    "X_train.shape"
   ]
  },
  {
   "cell_type": "code",
   "execution_count": 11,
   "metadata": {},
   "outputs": [],
   "source": [
    "def sigmoid(z):\n",
    "    return 1/ (1 + np.exp(-z))"
   ]
  },
  {
   "cell_type": "code",
   "execution_count": 12,
   "metadata": {},
   "outputs": [],
   "source": [
    "def costofgradient(it, i):\n",
    "    sum = 0\n",
    "    for j, row in enumerate(X_train):\n",
    "        sum += (sigmoid(np.dot(w[it], row)) - Y_train[j] )*row[i]\n",
    "    return sum"
   ]
  },
  {
   "cell_type": "code",
   "execution_count": 13,
   "metadata": {},
   "outputs": [],
   "source": [
    "def updateW(it):\n",
    "    locW = []\n",
    "    for i in range(4):\n",
    "        locW.append(w[it][i] - alpha*costofgradient(it, i))\n",
    "    return locW"
   ]
  },
  {
   "cell_type": "code",
   "execution_count": 14,
   "metadata": {},
   "outputs": [
    {
     "data": {
      "text/plain": [
       "<function matplotlib.pyplot.show(*args, **kw)>"
      ]
     },
     "execution_count": 14,
     "metadata": {},
     "output_type": "execute_result"
    },
    {
     "data": {
      "image/png": "[encoded data removed]",
      "text/plain": [
       "<Figure size 432x288 with 1 Axes>"
      ]
     },
     "metadata": {},
     "output_type": "display_data"
    }
   ],
   "source": [
    "w=[]\n",
    "w.append(np.random.randn(4))\n",
    "alpha = 0.0005\n",
    "iterations = 100\n",
    "x_axis=[]\n",
    "y_axis = []\n",
    "\n",
    "for it in range(iterations):\n",
    "    x_axis.append(it)\n",
    "    y_pred = sigmoid(np.dot(X_test, w[it]))\n",
    "    y_axis.append(np.sum((y_pred-Y_test)**2))\n",
    "    x = updateW(it)\n",
    "    w.append(x)\n",
    "\n",
    "plt.plot(x_axis, y_axis)\n",
    "plt.show\n",
    "plt.plot(x_axis, y_axis, color=\"#001a66\", linewidth=2)\n",
    "plt.xlabel('Iterations')  \n",
    "plt.ylabel('Loss')  \n",
    "plt.title('Progression of Loss Function with Gaussian Weight Initialization w/o Entropy')\n",
    "plt.show\n",
    "# plt.savefig('Gaussian_without_Entropy.jpg', bbox_inches='tight', dpi=300, quality=80, optimize=True, progressive=True)"
   ]
  },
  {
   "cell_type": "code",
   "execution_count": 15,
   "metadata": {},
   "outputs": [
    {
     "name": "stdout",
     "output_type": "stream",
     "text": [
      "[1.8502800583165366, -1.8434746463359024, -0.974484654066214, -1.1616913979809913]\n"
     ]
    }
   ],
   "source": [
    "y_pred = sigmoid(np.matmul(X_test, w[iterations]))\n",
    "for i, val in enumerate(y_pred):\n",
    "    if(val>=0.5):\n",
    "        y_pred[i]=1\n",
    "    else:\n",
    "        y_pred[i]=0\n",
    "print(w[iterations])"
   ]
  },
  {
   "cell_type": "code",
   "execution_count": 16,
   "metadata": {},
   "outputs": [
    {
     "name": "stdout",
     "output_type": "stream",
     "text": [
      "[[149.   1.]\n",
      " [  0. 124.]]\n",
      "The Precision is -  0.992\n",
      "The Recall is -  1.0\n",
      "The F1-score is -  0.9959839357429718\n",
      "The Squared Sum of Errors is -  1.0\n"
     ]
    }
   ],
   "source": [
    "#Computing the Confusion Matrix\n",
    "K = len(np.unique(Y_test)) # Number of classes \n",
    "confusion_matrix = np.zeros((K, K))\n",
    "\n",
    "for i in range(len(Y_test)):\n",
    "    x = Y_test[i]\n",
    "    y = y_pred[i].astype(int)\n",
    "    confusion_matrix[x][y] += 1\n",
    "print(confusion_matrix)\n",
    "\n",
    "precision = confusion_matrix[1][1]/(confusion_matrix[0][1] + confusion_matrix[1][1])\n",
    "recall = confusion_matrix[1][1]/(confusion_matrix[1][0] + confusion_matrix[1][1])\n",
    "print('The Precision is - ', precision)\n",
    "print('The Recall is - ', recall)\n",
    "f_score = 2*precision*recall/(precision+recall)\n",
    "print('The F1-score is - ',f_score)\n",
    "\n",
    "sse = np.sum((y_pred-Y_test)**2)\n",
    "print('The Squared Sum of Errors is - ',sse)"
   ]
  },
  {
   "cell_type": "code",
   "execution_count": 17,
   "metadata": {},
   "outputs": [
    {
     "name": "stdout",
     "output_type": "stream",
     "text": [
      "Accuracy of logistic regression classifier on test set: 99.63504\n"
     ]
    }
   ],
   "source": [
    "print('Accuracy of logistic regression classifier on test set: {:.5f}'.format((Y_test.shape[0]-sse)/Y_test.shape[0]*100))"
   ]
  }
 ],
 "metadata": {
  "kernelspec": {
   "display_name": "Python 3",
   "language": "python",
   "name": "python3"
  },
  "language_info": {
   "codemirror_mode": {
    "name": "ipython",
    "version": 3
   },
   "file_extension": ".py",
   "mimetype": "text/x-python",
   "name": "python",
   "nbconvert_exporter": "python",
   "pygments_lexer": "ipython3",
   "version": "3.6.5"
  }
 },
 "nbformat": 4,
 "nbformat_minor": 2
}
